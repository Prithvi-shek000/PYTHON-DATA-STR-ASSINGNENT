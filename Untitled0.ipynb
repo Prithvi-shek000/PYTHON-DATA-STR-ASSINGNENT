{
  "nbformat": 4,
  "nbformat_minor": 0,
  "metadata": {
    "colab": {
      "provenance": []
    },
    "kernelspec": {
      "name": "python3",
      "display_name": "Python 3"
    },
    "language_info": {
      "name": "python"
    }
  },
  "cells": [
    {
      "cell_type": "markdown",
      "source": [
        "                                          PYTHON DATA STRUCTURE ASSIGNMENT\n",
        "\n"
      ],
      "metadata": {
        "id": "jA6bCFXHhjCi"
      }
    },
    {
      "cell_type": "markdown",
      "source": [
        "#                                 # THEORITICAL QUESTION\n",
        "\n"
      ],
      "metadata": {
        "id": "WL63aWz4ImLl"
      }
    },
    {
      "cell_type": "markdown",
      "source": [
        "1. What are data structures, and why are they important?"
      ],
      "metadata": {
        "id": "iEdmARVuiIHS"
      }
    },
    {
      "cell_type": "markdown",
      "source": [
        "-> Data structures are organized ways of storing, managing, and organizing data so that it can be efficiently accessed and modified. They are fundamental concepts in computer science and software development, providing a systematic way to handle and process data in various applications.\n",
        "Importance of Data Structures\n",
        "Efficiency: The choice of data structure impacts the speed and memory usage of algorithms. Some structures allow for quicker searching, insertion, and deletion, leading to more efficient software.\n",
        "\n",
        "Optimal Performance: Using the right data structure ensures that programs can handle large amounts of data, such as in databases or search engines, without performance degradation.\n",
        "\n",
        "Problem Solving: Data structures provide the foundation for solving complex problems like sorting, searching, and graph traversal. They enable more efficient and scalable solutions.\n",
        "\n",
        "Organization and Access: By organizing data in a structured way, data structures help in better data management, making it easier to store, retrieve, and modify data."
      ],
      "metadata": {
        "id": "5dunJV8YiVL9"
      }
    },
    {
      "cell_type": "markdown",
      "source": [
        "2.Explain the difference between mutable and immutable data types with examples."
      ],
      "metadata": {
        "id": "Ja9634sHitHb"
      }
    },
    {
      "cell_type": "markdown",
      "source": [
        "-> In programming, mutable and immutable data types refer to whether or not the data stored in an object can be modified after the object is created.\n",
        "\n",
        "1. Mutable Data Types\n",
        "Mutable data types are objects whose contents can be changed or modified after they are created. You can update, add, or remove elements from mutable objects.\n",
        "\n",
        "Examples of Mutable Data Types:\n",
        "Lists (in Python): You can change, add, or remove elements from a list after it is created.\n"
      ],
      "metadata": {
        "id": "C5XEI_Swi1ZC"
      }
    },
    {
      "cell_type": "code",
      "source": [
        "my_list = [1, 2, 3]\n",
        "my_list[0] = 100  # Modify the first element\n",
        "my_list.append(4)  # Add a new element\n",
        "print(my_list)  # Output: [100, 2, 3, 4]\n"
      ],
      "metadata": {
        "colab": {
          "base_uri": "https://localhost:8080/"
        },
        "id": "FHQrOYMijOmy",
        "outputId": "4bc9e814-21c3-4c61-e805-355062ff46b8"
      },
      "execution_count": 1,
      "outputs": [
        {
          "output_type": "stream",
          "name": "stdout",
          "text": [
            "[100, 2, 3, 4]\n"
          ]
        }
      ]
    },
    {
      "cell_type": "markdown",
      "source": [
        "2. Immutable Data Types\n",
        "Immutable data types are objects whose contents cannot be changed once the object is created. Any attempt to modify an immutable object will result in a new object being created rather than modifying the original one.\n",
        "\n",
        "Examples of Immutable Data Types:\n",
        "Strings (in Python): You cannot change the individual characters of a string after it's created. Any modification results in the creation of a new string."
      ],
      "metadata": {
        "id": "meh3Or0rjWAj"
      }
    },
    {
      "cell_type": "code",
      "source": [
        "my_string = \"hello\"\n",
        "new_string = my_string.replace(\"h\", \"H\")  # Create a new string\n",
        "print(my_string)  # Output: hello (original string is unchanged)\n",
        "print(new_string)  # Output: Hello\n"
      ],
      "metadata": {
        "colab": {
          "base_uri": "https://localhost:8080/"
        },
        "id": "6MvzwSQBja80",
        "outputId": "02522268-2b3f-4a0e-9329-61d788b7a801"
      },
      "execution_count": 2,
      "outputs": [
        {
          "output_type": "stream",
          "name": "stdout",
          "text": [
            "hello\n",
            "Hello\n"
          ]
        }
      ]
    },
    {
      "cell_type": "markdown",
      "source": [
        "3.What are the main differences between lists and tuples in Python?"
      ],
      "metadata": {
        "id": "p5iXRyMzjoMP"
      }
    },
    {
      "cell_type": "markdown",
      "source": [
        "-> In Python, both lists and tuples are used to store collections of items, but they have several key differences in terms of mutability, performance, and use cases. Here are the main differences between them:\n",
        "\n",
        "1. Mutability:\n",
        "Lists are mutable: This means that you can change, add, or remove elements after the list is created.\n",
        "Use lists when you need a flexible, mutable collection of items that may change over time.\n",
        "Use tuples when you need an immutable collection, often for data integrity or performance reasons, and when you need to use the collection as a dictionary key or set element."
      ],
      "metadata": {
        "id": "IO1id6jrj9ww"
      }
    },
    {
      "cell_type": "markdown",
      "source": [
        "4.Describe how dictionaries store data?\n"
      ],
      "metadata": {
        "id": "YP4s8TdQkOnq"
      }
    },
    {
      "cell_type": "markdown",
      "source": [
        "-> Dictionaries in Python store data in a **hash table**. Each key-value pair is stored based on the hash value of the key. Here's how it works:\n",
        "\n",
        "1. **Key-Value Pair**: A dictionary stores data as a pair, where the key is unique, and the value is associated with it.\n",
        "2. **Hashing**: The key is passed through a **hash function** that generates a hash value (an integer) which determines where the key-value pair is stored in memory.\n",
        "3. **Buckets**: The hash table consists of **buckets** (or slots), where key-value pairs are placed. The hash value directs the placement of each pair into a bucket.\n",
        "4. **Collisions**: If two keys hash to the same value, a **collision** occurs, and Python resolves it using techniques like **open addressing** or **chaining**.\n",
        "5. **Resizing**: When the dictionary grows, it may be **resized** to maintain performance, redistributing the key-value pairs across a larger hash table.\n",
        "\n",
        "Dictionaries allow for fast lookups, insertions, and deletions, with average time complexity of O(1) for each operation."
      ],
      "metadata": {
        "id": "aeerB1cykaCj"
      }
    },
    {
      "cell_type": "markdown",
      "source": [
        "5.Why might you use a set instead of a list in Python?"
      ],
      "metadata": {
        "id": "Bf-XYPreksIE"
      }
    },
    {
      "cell_type": "markdown",
      "source": [
        "-> You might use a **set** instead of a **list** in Python when:\n",
        "\n",
        "1. **Uniqueness**: You want to store only unique elements, as sets automatically eliminate duplicates.\n",
        "2. **Efficiency**: You need faster membership testing (`in`), which is O(1) for sets, compared to O(n) for lists.\n",
        "3. **Set Operations**: You need to perform set operations like union, intersection, and difference.\n",
        "4. **Unordered Collection**: The order of elements does not matter, as sets are unordered.\n",
        "\n",
        "Sets are ideal for situations where you need fast lookups, uniqueness, or set-based operations."
      ],
      "metadata": {
        "id": "I9JE9p4flFa6"
      }
    },
    {
      "cell_type": "markdown",
      "source": [
        "6.What is a string in Python, and how is it different from a list?"
      ],
      "metadata": {
        "id": "CqHMnVQclJKk"
      }
    },
    {
      "cell_type": "markdown",
      "source": [
        "-> A **string** in Python is an immutable sequence of characters, typically used to represent text.\n",
        "\n",
        "### Differences from a list:\n",
        "1. **Mutability**: Strings are **immutable**, meaning they cannot be changed after creation, while lists are **mutable** and can be modified.\n",
        "2. **Element Type**: Strings only contain **characters** (text), while lists can store **any data type** (integers, strings, objects, etc.).\n",
        "3. **Operations**: Strings support text-specific operations (e.g., concatenation, slicing), while lists support a broader range of operations (e.g., adding/removing elements).\n",
        "4. **Syntax**: Strings are defined with **quotes** (`\" \"` or `' '`), while lists are defined with **square brackets** (`[ ]`)."
      ],
      "metadata": {
        "id": "iI0Z6DqAlQdm"
      }
    },
    {
      "cell_type": "markdown",
      "source": [
        "7.How do tuples ensure data integrity in Python?"
      ],
      "metadata": {
        "id": "HnOsEjrmld5-"
      }
    },
    {
      "cell_type": "markdown",
      "source": [
        "-> Tuples ensure data integrity in Python by being **immutable**. Once created, the contents of a tuple cannot be modified, preventing accidental changes to the data. This immutability guarantees that the data remains consistent and unaltered throughout the program, making tuples ideal for storing fixed, critical data that should not be modified."
      ],
      "metadata": {
        "id": "UwUYbqvzllyn"
      }
    },
    {
      "cell_type": "markdown",
      "source": [
        "8.What is a hash table, and how does it relate to dictionaries in Python?"
      ],
      "metadata": {
        "id": "TgyyK4dolvdp"
      }
    },
    {
      "cell_type": "markdown",
      "source": [
        "-> A **hash table** is a data structure that stores key-value pairs, where a **hash function** maps keys to indices in an array, allowing for efficient data retrieval. In Python, dictionaries use a hash table to store data, with the key being hashed to determine its position in memory for quick access, making lookups and insertions fast (average O(1) time complexity)."
      ],
      "metadata": {
        "id": "zkju5CWcl5Q8"
      }
    },
    {
      "cell_type": "markdown",
      "source": [
        "9.Can lists contain different data types in Python?"
      ],
      "metadata": {
        "id": "FKqOuCIVmCA7"
      }
    },
    {
      "cell_type": "markdown",
      "source": [
        "-> Yes, lists in Python can contain elements of different data types, such as integers, strings, floats, and even other lists or objects."
      ],
      "metadata": {
        "id": "cfe7ZQZfmHst"
      }
    },
    {
      "cell_type": "markdown",
      "source": [
        "10.Explain why strings are immutable in Python?"
      ],
      "metadata": {
        "id": "kRY4pkhQmTx9"
      }
    },
    {
      "cell_type": "markdown",
      "source": [
        "-> Strings are immutable in Python to ensure efficiency and data integrity.\n",
        "\n",
        "1. **Efficiency**: Immutability allows Python to optimize memory usage, sharing string objects when possible, instead of creating new ones for every modification.\n",
        "2. **Data Integrity**: Immutability prevents accidental changes to string data, making it safer for use in scenarios where data should remain constant, such as keys in dictionaries.\n",
        "3. **Hashability**: Immutable objects can be used as keys in hash tables (e.g., dictionaries and sets), ensuring that their hash value remains consistent throughout their lifetime."
      ],
      "metadata": {
        "id": "rSzWUGpgmktK"
      }
    },
    {
      "cell_type": "markdown",
      "source": [
        "11.What advantages do dictionaries offer over lists for certain tasks?"
      ],
      "metadata": {
        "id": "fdKMuW9Wmtfj"
      }
    },
    {
      "cell_type": "markdown",
      "source": [
        "-> Dictionaries offer several advantages over lists for certain tasks:\n",
        "\n",
        "1. **Fast Lookup**: Dictionaries provide **O(1)** average-time complexity for key-based lookups, whereas lists require **O(n)** time for searching through elements.\n",
        "   \n",
        "2. **Key-Value Mapping**: Dictionaries store data as **key-value pairs**, which makes them ideal for tasks where each element has a unique identifier (e.g., mapping names to phone numbers).\n",
        "\n",
        "3. **Unordered Collections**: Dictionaries do not rely on the order of elements, making them more efficient for managing associations between data, while lists maintain order.\n",
        "\n",
        "4. **Efficient Deletion and Insertion**: Inserting or deleting elements in dictionaries (by key) is generally faster than doing so in lists (by index or value).\n",
        "\n",
        "5. **Direct Access to Values**: With dictionaries, you can directly access values via keys, avoiding the need for iteration or indexing as you would with lists."
      ],
      "metadata": {
        "id": "HaAxkHD9mz0P"
      }
    },
    {
      "cell_type": "markdown",
      "source": [
        "12.Describe a scenario where using a tuple would be preferable over a list"
      ],
      "metadata": {
        "id": "95mxSKd0m6Sl"
      }
    },
    {
      "cell_type": "markdown",
      "source": [
        "-> A tuple would be preferable over a list in a scenario where data integrity and immutability are important. For example, when storing **coordinates** (e.g., latitude and longitude) that should not change throughout the program:\n",
        "\n",
        "```python\n",
        "coordinates = (40.7128, -74.0060)  # (latitude, longitude)\n",
        "```\n",
        "\n",
        "In this case, using a tuple ensures that the coordinates cannot be accidentally modified, preserving data integrity. Additionally, tuples use less memory and are faster for iteration, making them more efficient for fixed data collections."
      ],
      "metadata": {
        "id": "BKYLUPSvnBmC"
      }
    },
    {
      "cell_type": "markdown",
      "source": [
        "13.How do sets handle duplicate values in Python?"
      ],
      "metadata": {
        "id": "XKv_iToenJdT"
      }
    },
    {
      "cell_type": "markdown",
      "source": [
        "-> Sets automatically **remove duplicates** by only storing unique elements. If you try to add a duplicate value, it will be ignored."
      ],
      "metadata": {
        "id": "fRyNo2shnT96"
      }
    },
    {
      "cell_type": "markdown",
      "source": [
        "14.How does the “in” keyword work differently for lists and dictionaries?"
      ],
      "metadata": {
        "id": "P2xobIJz_7El"
      }
    },
    {
      "cell_type": "markdown",
      "source": [
        "-> For **lists**, the `in` keyword checks if a **value** is present in the list.  \n",
        "For **dictionaries**, the `in` keyword checks if a **key** is present in the dictionary."
      ],
      "metadata": {
        "id": "JQCjpUhxACB0"
      }
    },
    {
      "cell_type": "markdown",
      "source": [
        "15.Can you modify the elements of a tuple? Explain why or why not?"
      ],
      "metadata": {
        "id": "Yorh1CpyAM0K"
      }
    },
    {
      "cell_type": "markdown",
      "source": [
        "-> No, you cannot modify the elements of a tuple because tuples are **immutable**, meaning their contents cannot be changed after they are created."
      ],
      "metadata": {
        "id": "OfjCn20mAU6P"
      }
    },
    {
      "cell_type": "markdown",
      "source": [
        "16.What is a nested dictionary, and give an example of its use case?"
      ],
      "metadata": {
        "id": "nohEtXSyAmlb"
      }
    },
    {
      "cell_type": "markdown",
      "source": [
        "-> A nested dictionary is a dictionary where the values are other dictionaries or complex data structures.\n",
        "\n",
        "### Example Use Case:\n",
        "\n",
        "A school system with multiple schools, each having students and their grades:\n",
        "\n",
        "```python\n",
        "school = {\n",
        "    \"School A\": {\n",
        "        \"students\": {\n",
        "            \"John\": {\"age\": 15, \"grades\": {\"math\": 90, \"science\": 85}},\n",
        "            \"Alice\": {\"age\": 14, \"grades\": {\"math\": 88, \"science\": 92}}\n",
        "        }\n",
        "    },\n",
        "    \"School B\": {\n",
        "        \"students\": {\n",
        "            \"Bob\": {\"age\": 16, \"grades\": {\"math\": 85, \"science\": 80}},\n",
        "            \"Charlie\": {\"age\": 14, \"grades\": {\"math\": 90, \"science\": 94}}\n",
        "        }\n",
        "    }\n",
        "}\n",
        "```\n",
        "\n",
        "### Accessing Data:\n",
        "```python\n",
        "john_grades = school[\"School A\"][\"students\"][\"John\"][\"grades\"]\n",
        "print(john_grades)  # {'math': 90, 'science': 85}\n",
        "```"
      ],
      "metadata": {
        "id": "BtPV3b76A15y"
      }
    },
    {
      "cell_type": "markdown",
      "source": [
        "17. Describe the time complexity of accessing elements in a dictionary"
      ],
      "metadata": {
        "id": "ojXDgTfUBA5I"
      }
    },
    {
      "cell_type": "markdown",
      "source": [
        "-> The time complexity of accessing elements in a dictionary is **O(1)** on average."
      ],
      "metadata": {
        "id": "qVCg95_EBFTs"
      }
    },
    {
      "cell_type": "markdown",
      "source": [
        "18. In what situations are lists preferred over dictionaries?"
      ],
      "metadata": {
        "id": "g9xILeisBNg7"
      }
    },
    {
      "cell_type": "markdown",
      "source": [
        "-> Lists are preferred over dictionaries when:\n",
        "\n",
        "1. You need ordered data.\n",
        "2. You don't require key-value mapping.\n",
        "3. The data is indexed by position rather than a unique key.\n",
        "4. You need to store duplicate values."
      ],
      "metadata": {
        "id": "hSIY0UCDBSxF"
      }
    },
    {
      "cell_type": "markdown",
      "source": [
        "19.Why are dictionaries considered unordered, and how does that affect data retrieval?"
      ],
      "metadata": {
        "id": "ocp4boZmBazJ"
      }
    },
    {
      "cell_type": "markdown",
      "source": [
        "-> Dictionaries are considered unordered because their elements are stored in arbitrary order based on their hash values, not in a sequence. This doesn't affect data retrieval, as dictionaries allow direct access to values via keys, providing **O(1)** average time complexity, regardless of order."
      ],
      "metadata": {
        "id": "b4K4rsCyBhaG"
      }
    },
    {
      "cell_type": "markdown",
      "source": [
        "20.Explain the difference between a list and a dictionary in terms of data retrieval?"
      ],
      "metadata": {
        "id": "esxj2vvuBqEA"
      }
    },
    {
      "cell_type": "markdown",
      "source": [
        "-> In a list, data is retrieved by index (position), while in a dictionary, data is retrieved by key. Lists are ordered, while dictionaries are unordered, but dictionaries allow faster retrieval by key (average O(1) time complexity)."
      ],
      "metadata": {
        "id": "tjZN73AtB0Xb"
      }
    },
    {
      "cell_type": "markdown",
      "source": [
        "                             # ***PRACTICAL QUESTION ***\n",
        "                             "
      ],
      "metadata": {
        "id": "bI8zeJZQB9V6"
      }
    },
    {
      "cell_type": "markdown",
      "source": [
        "1.Write a code to create a string with your name and print it?"
      ],
      "metadata": {
        "id": "cfIWJWGRCQzC"
      }
    },
    {
      "cell_type": "code",
      "source": [
        "name = \"ChatGPT\"\n",
        "print(name)\n"
      ],
      "metadata": {
        "colab": {
          "base_uri": "https://localhost:8080/"
        },
        "id": "MaBQjMDBDMAI",
        "outputId": "4b33b8e4-ef76-43cd-fa69-bd9e07a5ef49"
      },
      "execution_count": 7,
      "outputs": [
        {
          "output_type": "stream",
          "name": "stdout",
          "text": [
            "ChatGPT\n"
          ]
        }
      ]
    },
    {
      "cell_type": "markdown",
      "source": [
        "2.Write a code to find the length of the string \"Hello World\"E?"
      ],
      "metadata": {
        "id": "TM64pJ8ZDQDM"
      }
    },
    {
      "cell_type": "code",
      "source": [
        "string = \"Hello World\"\n",
        "length = len(string)\n",
        "print(length)\n"
      ],
      "metadata": {
        "colab": {
          "base_uri": "https://localhost:8080/"
        },
        "id": "dhKeq0OYDW6h",
        "outputId": "956c8240-c504-4f8b-e1f5-9cb8fcbbfded"
      },
      "execution_count": 8,
      "outputs": [
        {
          "output_type": "stream",
          "name": "stdout",
          "text": [
            "11\n"
          ]
        }
      ]
    },
    {
      "cell_type": "markdown",
      "source": [
        "3.Write a code to slice the first 3 characters from the string \"Python Programming\"E"
      ],
      "metadata": {
        "id": "zzuGBVT4Dege"
      }
    },
    {
      "cell_type": "code",
      "source": [
        "string = \"Python Programming\"\n",
        "sliced = string[:3]\n",
        "print(sliced)\n"
      ],
      "metadata": {
        "colab": {
          "base_uri": "https://localhost:8080/"
        },
        "id": "j8MP1RedDpCe",
        "outputId": "70b052c8-6044-49c7-f3b9-b0e0820caf31"
      },
      "execution_count": 9,
      "outputs": [
        {
          "output_type": "stream",
          "name": "stdout",
          "text": [
            "Pyt\n"
          ]
        }
      ]
    },
    {
      "cell_type": "markdown",
      "source": [
        "4.Write a code to convert the string \"hello\" to uppercase"
      ],
      "metadata": {
        "id": "CGRSR-T8DrM4"
      }
    },
    {
      "cell_type": "code",
      "source": [
        "string = \"hello\"\n",
        "uppercased = string.upper()\n",
        "print(uppercased)\n"
      ],
      "metadata": {
        "colab": {
          "base_uri": "https://localhost:8080/"
        },
        "id": "oXvXRnkmDxO2",
        "outputId": "0476f7c8-56f2-4edd-c17a-8648cac85ffc"
      },
      "execution_count": 10,
      "outputs": [
        {
          "output_type": "stream",
          "name": "stdout",
          "text": [
            "HELLO\n"
          ]
        }
      ]
    },
    {
      "cell_type": "markdown",
      "source": [
        "5.Write a code to replace the word \"apple\" with \"orange\" in the string \"I like apple\"E"
      ],
      "metadata": {
        "id": "BqeuzD9rD4e7"
      }
    },
    {
      "cell_type": "code",
      "source": [
        "string = \"I like apple\"\n",
        "replaced = string.replace(\"apple\", \"orange\")\n",
        "print(replaced)\n"
      ],
      "metadata": {
        "colab": {
          "base_uri": "https://localhost:8080/"
        },
        "id": "mgL9bxieD-9e",
        "outputId": "aa78ff4a-e99e-42ea-cdec-00053821a11d"
      },
      "execution_count": 11,
      "outputs": [
        {
          "output_type": "stream",
          "name": "stdout",
          "text": [
            "I like orange\n"
          ]
        }
      ]
    },
    {
      "cell_type": "markdown",
      "source": [
        "6.Write a code to create a list with numbers 1 to 5 and print it"
      ],
      "metadata": {
        "id": "U0l4O4kLEJD-"
      }
    },
    {
      "cell_type": "code",
      "source": [
        "numbers = [1, 2, 3, 4, 5]\n",
        "print(numbers)\n"
      ],
      "metadata": {
        "colab": {
          "base_uri": "https://localhost:8080/"
        },
        "id": "Pvi3zFrQENiG",
        "outputId": "6c7e6f36-5a48-4bd9-9bba-857cd7c03471"
      },
      "execution_count": 12,
      "outputs": [
        {
          "output_type": "stream",
          "name": "stdout",
          "text": [
            "[1, 2, 3, 4, 5]\n"
          ]
        }
      ]
    },
    {
      "cell_type": "markdown",
      "source": [
        "7.Write a code to append the number 10 to the list [1, 2, 3, 4]"
      ],
      "metadata": {
        "id": "NFQVdCpKEgxY"
      }
    },
    {
      "cell_type": "code",
      "source": [
        "numbers = [1, 2, 3, 4]\n",
        "numbers.append(10)\n",
        "print(numbers)\n"
      ],
      "metadata": {
        "colab": {
          "base_uri": "https://localhost:8080/"
        },
        "id": "TpjmZvJXEtlp",
        "outputId": "a86e5358-d5bf-409e-b472-fb9ad6cd124b"
      },
      "execution_count": 13,
      "outputs": [
        {
          "output_type": "stream",
          "name": "stdout",
          "text": [
            "[1, 2, 3, 4, 10]\n"
          ]
        }
      ]
    },
    {
      "cell_type": "markdown",
      "source": [
        "8. Write a code to remove the number 3 from the list [1, 2, 3, 4, 5]"
      ],
      "metadata": {
        "id": "rbv_QmH9E3DF"
      }
    },
    {
      "cell_type": "code",
      "source": [
        "numbers = [1, 2, 3, 4, 5]\n",
        "numbers.remove(3)\n",
        "print(numbers)\n"
      ],
      "metadata": {
        "colab": {
          "base_uri": "https://localhost:8080/"
        },
        "id": "a1w_nGUYFDWQ",
        "outputId": "25602885-e740-4570-cae9-6cafc648c46e"
      },
      "execution_count": 14,
      "outputs": [
        {
          "output_type": "stream",
          "name": "stdout",
          "text": [
            "[1, 2, 4, 5]\n"
          ]
        }
      ]
    },
    {
      "cell_type": "markdown",
      "source": [
        "9.Write a code to access the second element in the list ['a', 'b', 'c', 'd']"
      ],
      "metadata": {
        "id": "eD5_QozVFPi6"
      }
    },
    {
      "cell_type": "code",
      "source": [
        "letters = ['a', 'b', 'c', 'd']\n",
        "print(letters[1])\n"
      ],
      "metadata": {
        "colab": {
          "base_uri": "https://localhost:8080/"
        },
        "id": "zO9SrPBiFUpQ",
        "outputId": "77ea7337-e99b-420a-fe35-4b4a304151a8"
      },
      "execution_count": 15,
      "outputs": [
        {
          "output_type": "stream",
          "name": "stdout",
          "text": [
            "b\n"
          ]
        }
      ]
    },
    {
      "cell_type": "markdown",
      "source": [
        "10. Write a code to reverse the list [10, 20, 30, 40, 50]"
      ],
      "metadata": {
        "id": "kYSRlEGBFfiN"
      }
    },
    {
      "cell_type": "code",
      "source": [
        "numbers = [10, 20, 30, 40, 50]\n",
        "numbers.reverse()\n",
        "print(numbers)\n"
      ],
      "metadata": {
        "colab": {
          "base_uri": "https://localhost:8080/"
        },
        "id": "wRQKo20yFkIA",
        "outputId": "33e720d2-e027-4b06-a72b-dc0455222567"
      },
      "execution_count": 16,
      "outputs": [
        {
          "output_type": "stream",
          "name": "stdout",
          "text": [
            "[50, 40, 30, 20, 10]\n"
          ]
        }
      ]
    },
    {
      "cell_type": "markdown",
      "source": [
        "11.Write a code to create a tuple with the elements 10, 20, 30 and print it"
      ],
      "metadata": {
        "id": "_OHCBf35FqDd"
      }
    },
    {
      "cell_type": "code",
      "source": [
        "my_tuple = (10, 20, 30)\n",
        "print(my_tuple)\n"
      ],
      "metadata": {
        "colab": {
          "base_uri": "https://localhost:8080/"
        },
        "id": "r1B2cjbHF60n",
        "outputId": "e31886e9-bb8c-4ea0-b59d-b5ce7130fe87"
      },
      "execution_count": 17,
      "outputs": [
        {
          "output_type": "stream",
          "name": "stdout",
          "text": [
            "(10, 20, 30)\n"
          ]
        }
      ]
    },
    {
      "cell_type": "markdown",
      "source": [
        "12.Write a code to access the first element of the tuple ('apple', 'banana', 'cherry')"
      ],
      "metadata": {
        "id": "nwQ7ISUxF9fJ"
      }
    },
    {
      "cell_type": "code",
      "source": [
        "fruits = ('apple', 'banana', 'cherry')\n",
        "print(fruits[0])\n"
      ],
      "metadata": {
        "colab": {
          "base_uri": "https://localhost:8080/"
        },
        "id": "HRxzi0stGBm5",
        "outputId": "cea95432-e9d4-4527-e69a-69c9532b1735"
      },
      "execution_count": 18,
      "outputs": [
        {
          "output_type": "stream",
          "name": "stdout",
          "text": [
            "apple\n"
          ]
        }
      ]
    },
    {
      "cell_type": "markdown",
      "source": [
        "13.Write a code to count how many times the number 2 appears in the tuple (1, 2, 3, 2, 4, 2)"
      ],
      "metadata": {
        "id": "LQLsRkAEGIho"
      }
    },
    {
      "cell_type": "code",
      "source": [
        "my_tuple = (1, 2, 3, 2, 4, 2)\n",
        "count = my_tuple.count(2)\n",
        "print(count)\n"
      ],
      "metadata": {
        "colab": {
          "base_uri": "https://localhost:8080/"
        },
        "id": "62tWBjM4GMRh",
        "outputId": "b8022884-1cb3-4c5a-aab5-74d51d41719b"
      },
      "execution_count": 19,
      "outputs": [
        {
          "output_type": "stream",
          "name": "stdout",
          "text": [
            "3\n"
          ]
        }
      ]
    },
    {
      "cell_type": "markdown",
      "source": [
        "14. Write a code to find the index of the element \"cat\" in the tuple ('dog', 'cat', 'rabbit')."
      ],
      "metadata": {
        "id": "2vdiWtJ1GVNf"
      }
    },
    {
      "cell_type": "code",
      "source": [
        "my_tuple = ('dog', 'cat', 'rabbit')\n",
        "index = my_tuple.index('cat')\n",
        "print(index)\n"
      ],
      "metadata": {
        "colab": {
          "base_uri": "https://localhost:8080/"
        },
        "id": "8TsABdU7GWgs",
        "outputId": "faf02285-dfcc-40bc-b303-9889c7b8f4dd"
      },
      "execution_count": 20,
      "outputs": [
        {
          "output_type": "stream",
          "name": "stdout",
          "text": [
            "1\n"
          ]
        }
      ]
    },
    {
      "cell_type": "markdown",
      "source": [
        "15.Write a code to check if the element \"banana\" is in the tuple ('apple', 'orange', 'banana')"
      ],
      "metadata": {
        "id": "qsnjR41fGeAx"
      }
    },
    {
      "cell_type": "code",
      "source": [
        "my_tuple = ('apple', 'orange', 'banana')\n",
        "result = 'banana' in my_tuple\n",
        "print(result)\n"
      ],
      "metadata": {
        "colab": {
          "base_uri": "https://localhost:8080/"
        },
        "id": "UR0DGuhJGjOR",
        "outputId": "65f54af5-5df0-4b1b-c7b3-743351dbed90"
      },
      "execution_count": 21,
      "outputs": [
        {
          "output_type": "stream",
          "name": "stdout",
          "text": [
            "True\n"
          ]
        }
      ]
    },
    {
      "cell_type": "markdown",
      "source": [
        "16. Write a code to create a set with the elements 1, 2, 3, 4, 5 and print it."
      ],
      "metadata": {
        "id": "0y5-yVGeGuNv"
      }
    },
    {
      "cell_type": "code",
      "source": [
        "my_set = {1, 2, 3, 4, 5}\n",
        "print(my_set)\n"
      ],
      "metadata": {
        "colab": {
          "base_uri": "https://localhost:8080/"
        },
        "id": "6N9TBz-cG1S4",
        "outputId": "dbc69f0b-e0cc-4114-e5ab-4240eb4afb45"
      },
      "execution_count": 22,
      "outputs": [
        {
          "output_type": "stream",
          "name": "stdout",
          "text": [
            "{1, 2, 3, 4, 5}\n"
          ]
        }
      ]
    },
    {
      "cell_type": "markdown",
      "source": [
        "17. Write a code to add the element 6 to the set {1, 2, 3, 4}."
      ],
      "metadata": {
        "id": "q4X_y5x1G7r5"
      }
    },
    {
      "cell_type": "code",
      "source": [
        "my_set = {1, 2, 3, 4}\n",
        "my_set.add(6)\n",
        "print(my_set)\n"
      ],
      "metadata": {
        "colab": {
          "base_uri": "https://localhost:8080/"
        },
        "id": "6MwR7sjhG_sO",
        "outputId": "ff2b5074-a089-4d63-d530-684e37e59c90"
      },
      "execution_count": 23,
      "outputs": [
        {
          "output_type": "stream",
          "name": "stdout",
          "text": [
            "{1, 2, 3, 4, 6}\n"
          ]
        }
      ]
    },
    {
      "cell_type": "markdown",
      "source": [
        "18.Write a code to create a tuple with the elements 10, 20, 30 and print it."
      ],
      "metadata": {
        "id": "-1F0Apk_HGfX"
      }
    },
    {
      "cell_type": "code",
      "source": [
        "my_tuple = (10, 20, 30)\n",
        "print(my_tuple)\n"
      ],
      "metadata": {
        "colab": {
          "base_uri": "https://localhost:8080/"
        },
        "id": "1UVAib_DHMVf",
        "outputId": "6223b644-da40-44ee-edba-1121961bd648"
      },
      "execution_count": 24,
      "outputs": [
        {
          "output_type": "stream",
          "name": "stdout",
          "text": [
            "(10, 20, 30)\n"
          ]
        }
      ]
    },
    {
      "cell_type": "markdown",
      "source": [
        "19. Write a code to access the first element of the tuple ('apple', 'banana', 'cherry')."
      ],
      "metadata": {
        "id": "6v28KsEZHRoF"
      }
    },
    {
      "cell_type": "code",
      "source": [
        "my_tuple = ('apple', 'banana', 'cherry')\n",
        "print(my_tuple[0])\n"
      ],
      "metadata": {
        "colab": {
          "base_uri": "https://localhost:8080/"
        },
        "id": "D3nQwwA8HWgo",
        "outputId": "ba425ec5-63f5-4db2-e837-4666e4ba4e47"
      },
      "execution_count": 25,
      "outputs": [
        {
          "output_type": "stream",
          "name": "stdout",
          "text": [
            "apple\n"
          ]
        }
      ]
    },
    {
      "cell_type": "markdown",
      "source": [
        "20.Write a code to count how many times the number 2 appears in the tuple (1, 2, 3, 2, 4, 2)."
      ],
      "metadata": {
        "id": "iq3PrUsgHeCA"
      }
    },
    {
      "cell_type": "code",
      "source": [
        "tuple_data = (1, 2, 3, 2, 4, 2)\n",
        "count = tuple_data.count(2)\n",
        "print(count)\n"
      ],
      "metadata": {
        "colab": {
          "base_uri": "https://localhost:8080/"
        },
        "id": "WyDcDzr-Hh3Y",
        "outputId": "c416a3ad-775d-4f7b-c242-874ce19d6e3b"
      },
      "execution_count": 26,
      "outputs": [
        {
          "output_type": "stream",
          "name": "stdout",
          "text": [
            "3\n"
          ]
        }
      ]
    },
    {
      "cell_type": "markdown",
      "source": [
        "21.Write a code to find the index of the element \"cat\" in the tuple ('dog', 'cat', 'rabbit')."
      ],
      "metadata": {
        "id": "eq_Y7Bi9HznK"
      }
    },
    {
      "cell_type": "code",
      "source": [
        "tuple_data = ('dog', 'cat', 'rabbit')\n",
        "index = tuple_data.index('cat')\n",
        "print(index)\n"
      ],
      "metadata": {
        "colab": {
          "base_uri": "https://localhost:8080/"
        },
        "id": "GcGbQFGnH4hy",
        "outputId": "55dbbb2e-f435-4b83-b3f8-0f1d174499c2"
      },
      "execution_count": 27,
      "outputs": [
        {
          "output_type": "stream",
          "name": "stdout",
          "text": [
            "1\n"
          ]
        }
      ]
    },
    {
      "cell_type": "markdown",
      "source": [
        "22. Write a code to check if the element \"banana\" is in the tuple ('apple', 'orange', 'banana')."
      ],
      "metadata": {
        "id": "O1cL-O-DIAq7"
      }
    },
    {
      "cell_type": "code",
      "source": [
        "tuple_data = ('apple', 'orange', 'banana')\n",
        "result = 'banana' in tuple_data\n",
        "print(result)\n"
      ],
      "metadata": {
        "colab": {
          "base_uri": "https://localhost:8080/"
        },
        "id": "OV8vnmwGIBni",
        "outputId": "91341114-ba8a-4bc4-fec8-5b91ad872d11"
      },
      "execution_count": 28,
      "outputs": [
        {
          "output_type": "stream",
          "name": "stdout",
          "text": [
            "True\n"
          ]
        }
      ]
    },
    {
      "cell_type": "markdown",
      "source": [
        "23.Write a code to create a set with the elements 1, 2, 3, 4, 5 and print it."
      ],
      "metadata": {
        "id": "iIsMB-QCIMeq"
      }
    },
    {
      "cell_type": "code",
      "source": [
        "my_set = {1, 2, 3, 4, 5}\n",
        "print(my_set)\n"
      ],
      "metadata": {
        "colab": {
          "base_uri": "https://localhost:8080/"
        },
        "id": "2Lain0PNIVz6",
        "outputId": "b3f8b67f-18c4-4998-91fc-f6053b8cc504"
      },
      "execution_count": 29,
      "outputs": [
        {
          "output_type": "stream",
          "name": "stdout",
          "text": [
            "{1, 2, 3, 4, 5}\n"
          ]
        }
      ]
    },
    {
      "cell_type": "markdown",
      "source": [
        "24. Write a code to add the element 6 to the set {1, 2, 3, 4}."
      ],
      "metadata": {
        "id": "GpgIArSRIbn7"
      }
    },
    {
      "cell_type": "code",
      "source": [
        "my_set = {1, 2, 3, 4}\n",
        "my_set.add(6)\n",
        "print(my_set)\n"
      ],
      "metadata": {
        "colab": {
          "base_uri": "https://localhost:8080/"
        },
        "id": "N6fOzHpZIeyO",
        "outputId": "65972b83-0c4f-409e-fbab-f6240d35de6f"
      },
      "execution_count": 30,
      "outputs": [
        {
          "output_type": "stream",
          "name": "stdout",
          "text": [
            "{1, 2, 3, 4, 6}\n"
          ]
        }
      ]
    }
  ]
}